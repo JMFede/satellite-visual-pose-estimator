{
 "cells": [
  {
   "cell_type": "code",
   "execution_count": 1,
   "metadata": {},
   "outputs": [
    {
     "name": "stdout",
     "output_type": "stream",
     "text": [
      "Couldn't import dot_parser, loading of dot files will not be possible.\n"
     ]
    }
   ],
   "source": [
    "import numpy as np\n",
    "import torch\n",
    "from torchvision.transforms import ToTensor, Normalize, Compose, Resize, ToPILImage\n",
    "\n",
    "def coord2Heatmap(landmarks, device, heatmap_width=512, heatmap_height=512, sigma=1):\n",
    "    landmarks = landmarks.cpu()\n",
    "\n",
    "    x_coords = landmarks[:, :11].detach().numpy()\n",
    "    y_coords = landmarks[:, 11:].detach().numpy()\n",
    "\n",
    "    i, j = np.meshgrid(np.arange(heatmap_height), np.arange(heatmap_width), indexing='ij')\n",
    "    i, j = i[np.newaxis, ...], j[np.newaxis, ...]\n",
    "\n",
    "    diff_x = i - y_coords[:, :, np.newaxis, np.newaxis]\n",
    "    diff_y = j - x_coords[:, :, np.newaxis, np.newaxis]\n",
    "\n",
    "    squared_distances = (diff_x ** 2 + diff_y ** 2) / (2 * sigma ** 2)\n",
    "    heatmaps = np.exp(-squared_distances)\n",
    "\n",
    "    heatmap_transform = Compose([\n",
    "        #ToPILImage(),\n",
    "        Resize((heatmap_width, heatmap_height)),\n",
    "        ToTensor(),\n",
    "        Normalize(mean=[0.5], std=[0.5])\n",
    "    ])\n",
    "\n",
    "    batch_length, n_landmarks, height, width = heatmaps.shape\n",
    "    heatmaps_reshaped = heatmaps.reshape(batch_length * n_landmarks, height, width)\n",
    "\n",
    "    heatmaps_images = torch.stack([heatmap_transform(Image.fromarray(image)) for image in heatmaps_reshaped])\n",
    "\n",
    "    heatmaps_images = heatmaps_images.reshape(batch_length, n_landmarks, height, width)\n",
    "\n",
    "    heatmaps_images = heatmaps_images.to(device)\n",
    "\n",
    "    return heatmaps_images\n"
   ]
  },
  {
   "cell_type": "code",
   "execution_count": 2,
   "metadata": {},
   "outputs": [],
   "source": [
    "import torch\n",
    "import torch.nn as nn\n",
    "import torch.optim as optim\n",
    "from customDataset import *\n",
    "#from heatmaps import *\n",
    "\n",
    "device = torch.device(\"cuda:0\" if torch.cuda.is_available() else \"cpu\")"
   ]
  },
  {
   "cell_type": "code",
   "execution_count": 3,
   "metadata": {},
   "outputs": [],
   "source": [
    "class LandmarkRegression(nn.Module):\n",
    "    def __init__(self, num_landmarks):\n",
    "        super(LandmarkRegression, self).__init__()\n",
    "        self.num_landmarks = num_landmarks\n",
    "        self.cnn = nn.Sequential(\n",
    "            nn.Conv2d(1, 64, kernel_size=3, padding=1),  # Grayscale input, so 1 channel\n",
    "            nn.ReLU(inplace=True),\n",
    "            nn.MaxPool2d(kernel_size=2, stride=2),\n",
    "            nn.Conv2d(64, 128, kernel_size=3, padding=1),\n",
    "            nn.ReLU(inplace=True),\n",
    "            nn.MaxPool2d(kernel_size=2, stride=2),\n",
    "            nn.Conv2d(128, 256, kernel_size=3, padding=1),\n",
    "            nn.ReLU(inplace=True),\n",
    "            nn.MaxPool2d(kernel_size=2, stride=2),\n",
    "            nn.Conv2d(256, 256, kernel_size=3, padding=1),\n",
    "            nn.ReLU(inplace=True),\n",
    "            nn.MaxPool2d(kernel_size=2, stride=2),\n",
    "        )\n",
    "        self.fc = nn.Sequential(\n",
    "            nn.Linear(256 * 32 * 32, 1024),  # Adjust input size as needed (256*32*32 for 512x512 input)\n",
    "            nn.ReLU(inplace=True),\n",
    "            nn.Linear(1024, 512),\n",
    "            nn.ReLU(inplace=True),\n",
    "            nn.Linear(512, num_landmarks * 2)  # Each landmark has (x, y) coordinates\n",
    "        )\n",
    "\n",
    "    def forward(self, x):\n",
    "        x = self.cnn(x)\n",
    "        x = x.view(x.size(0), -1)\n",
    "        x = self.fc(x)\n",
    "\n",
    "        # Reshape the output to have dimensions (batch_size, num_landmarks, 512, 512)\n",
    "        #x = x.view(x.size(0), self.num_landmarks, 512, 512)\n",
    "        \n",
    "        return x\n"
   ]
  },
  {
   "cell_type": "code",
   "execution_count": 4,
   "metadata": {},
   "outputs": [],
   "source": [
    "def weighted_mse_loss(output, target, visibility_value):\n",
    "    # Calculate the squared error between predicted and target landmarks\n",
    "    squared_error = visibility_value.unsqueeze(2).unsqueeze(3).unsqueeze(4) * (output - target) ** 2\n",
    "    \n",
    "    # Compute the mean loss while considering visibility\n",
    "    loss = squared_error.mean()\n",
    "    \n",
    "    return loss"
   ]
  },
  {
   "cell_type": "code",
   "execution_count": 5,
   "metadata": {},
   "outputs": [
    {
     "data": {
      "text/plain": [
       "LandmarkRegression(\n",
       "  (cnn): Sequential(\n",
       "    (0): Conv2d(1, 64, kernel_size=(3, 3), stride=(1, 1), padding=(1, 1))\n",
       "    (1): ReLU(inplace=True)\n",
       "    (2): MaxPool2d(kernel_size=2, stride=2, padding=0, dilation=1, ceil_mode=False)\n",
       "    (3): Conv2d(64, 128, kernel_size=(3, 3), stride=(1, 1), padding=(1, 1))\n",
       "    (4): ReLU(inplace=True)\n",
       "    (5): MaxPool2d(kernel_size=2, stride=2, padding=0, dilation=1, ceil_mode=False)\n",
       "    (6): Conv2d(128, 256, kernel_size=(3, 3), stride=(1, 1), padding=(1, 1))\n",
       "    (7): ReLU(inplace=True)\n",
       "    (8): MaxPool2d(kernel_size=2, stride=2, padding=0, dilation=1, ceil_mode=False)\n",
       "    (9): Conv2d(256, 256, kernel_size=(3, 3), stride=(1, 1), padding=(1, 1))\n",
       "    (10): ReLU(inplace=True)\n",
       "    (11): MaxPool2d(kernel_size=2, stride=2, padding=0, dilation=1, ceil_mode=False)\n",
       "  )\n",
       "  (fc): Sequential(\n",
       "    (0): Linear(in_features=262144, out_features=1024, bias=True)\n",
       "    (1): ReLU(inplace=True)\n",
       "    (2): Linear(in_features=1024, out_features=512, bias=True)\n",
       "    (3): ReLU(inplace=True)\n",
       "    (4): Linear(in_features=512, out_features=22, bias=True)\n",
       "  )\n",
       ")"
      ]
     },
     "execution_count": 5,
     "metadata": {},
     "output_type": "execute_result"
    }
   ],
   "source": [
    "# Example usage:\n",
    "dataset_path = '../Data_preparation/Dataset1_2.csv' \n",
    "num_landmarks = 11\n",
    "model = LandmarkRegression(num_landmarks)\n",
    "model.to(device)\n",
    "model.requires_grad_(True)"
   ]
  },
  {
   "cell_type": "code",
   "execution_count": 6,
   "metadata": {},
   "outputs": [],
   "source": [
    "train_loader, test_loader = load_data(dataset_path)"
   ]
  },
  {
   "cell_type": "code",
   "execution_count": 12,
   "metadata": {},
   "outputs": [],
   "source": [
    "optimizer = optim.Adam(model.parameters(), lr=0.001)  # Adjust learning rate as needed\n",
    "\n",
    "# Training parameters\n",
    "num_epochs = 10\n",
    "# Training loop\n",
    "for epoch_index in range(num_epochs):\n",
    "    model.train()  # Set the model to training mode\n",
    "    running_loss = 0.0\n",
    "    print(f\"Epoch {epoch_index+1}\")\n",
    "    for batch_index, data in enumerate(train_loader):\n",
    "        input, target, visibility = data[0].to(device), data[1].to(device), data[2].to(device)\n",
    "        input.requires_grad = True\n",
    "\n",
    "        optimizer.zero_grad()  # Zero the gradient buffers\n",
    "\n",
    "        output = model(input)  # Forward pass\n",
    "\n",
    "        output_heat = coord2Heatmap(output, device).unsqueeze(2)\n",
    "        output_heat.requires_grad_(True)\n",
    "\n",
    "        loss = weighted_mse_loss(output_heat, target, visibility)  # Compute the loss\n",
    "\n",
    "        loss.backward()  # Backpropagation\n",
    "        optimizer.step()  # Update the model's weights\n",
    "\n",
    "        running_loss += loss.item()\n",
    "        if batch_index % 10 == 0:\n",
    "            print(f\"--> Batch {batch_index+1}/{len(train_loader)} - Loss:{loss.item()}\")\n",
    "        \n",
    "    # Calculate the average loss for this epoch\n",
    "    average_loss = running_loss / len(train_loader)\n",
    "    print(f\"Epoch [{epoch_index+1}/{num_epochs}] - Loss: {average_loss:.4f}\")\n",
    "    torch.cuda.empty_cache()"
   ]
  },
  {
   "cell_type": "code",
   "execution_count": 12,
   "metadata": {},
   "outputs": [
    {
     "ename": "UnpicklingError",
     "evalue": "unpickling stack underflow",
     "output_type": "error",
     "traceback": [
      "\u001b[0;31m---------------------------------------------------------------------------\u001b[0m",
      "\u001b[0;31mUnpicklingError\u001b[0m                           Traceback (most recent call last)",
      "\u001b[1;32m/Users/federicomoscato/Visual-Pose-Estimator/Reg_CNN/landmark_reg.ipynb Cell 8\u001b[0m line \u001b[0;36m2\n\u001b[1;32m      <a href='vscode-notebook-cell:/Users/federicomoscato/Visual-Pose-Estimator/Reg_CNN/landmark_reg.ipynb#X12sZmlsZQ%3D%3D?line=0'>1</a>\u001b[0m model1 \u001b[39m=\u001b[39m LandmarkRegression(num_landmarks)\n\u001b[0;32m----> <a href='vscode-notebook-cell:/Users/federicomoscato/Visual-Pose-Estimator/Reg_CNN/landmark_reg.ipynb#X12sZmlsZQ%3D%3D?line=1'>2</a>\u001b[0m model1\u001b[39m.\u001b[39mload_state_dict(torch\u001b[39m.\u001b[39;49mload(\u001b[39m'\u001b[39;49m\u001b[39mvers_0_32.pt\u001b[39;49m\u001b[39m'\u001b[39;49m))\n",
      "File \u001b[0;32m/Library/Frameworks/Python.framework/Versions/3.10/lib/python3.10/site-packages/torch/serialization.py:815\u001b[0m, in \u001b[0;36mload\u001b[0;34m(f, map_location, pickle_module, weights_only, **pickle_load_args)\u001b[0m\n\u001b[1;32m    813\u001b[0m     \u001b[39mexcept\u001b[39;00m \u001b[39mRuntimeError\u001b[39;00m \u001b[39mas\u001b[39;00m e:\n\u001b[1;32m    814\u001b[0m         \u001b[39mraise\u001b[39;00m pickle\u001b[39m.\u001b[39mUnpicklingError(UNSAFE_MESSAGE \u001b[39m+\u001b[39m \u001b[39mstr\u001b[39m(e)) \u001b[39mfrom\u001b[39;00m \u001b[39mNone\u001b[39;00m\n\u001b[0;32m--> 815\u001b[0m \u001b[39mreturn\u001b[39;00m _legacy_load(opened_file, map_location, pickle_module, \u001b[39m*\u001b[39;49m\u001b[39m*\u001b[39;49mpickle_load_args)\n",
      "File \u001b[0;32m/Library/Frameworks/Python.framework/Versions/3.10/lib/python3.10/site-packages/torch/serialization.py:1033\u001b[0m, in \u001b[0;36m_legacy_load\u001b[0;34m(f, map_location, pickle_module, **pickle_load_args)\u001b[0m\n\u001b[1;32m   1027\u001b[0m \u001b[39mif\u001b[39;00m \u001b[39mnot\u001b[39;00m \u001b[39mhasattr\u001b[39m(f, \u001b[39m'\u001b[39m\u001b[39mreadinto\u001b[39m\u001b[39m'\u001b[39m) \u001b[39mand\u001b[39;00m (\u001b[39m3\u001b[39m, \u001b[39m8\u001b[39m, \u001b[39m0\u001b[39m) \u001b[39m<\u001b[39m\u001b[39m=\u001b[39m sys\u001b[39m.\u001b[39mversion_info \u001b[39m<\u001b[39m (\u001b[39m3\u001b[39m, \u001b[39m8\u001b[39m, \u001b[39m2\u001b[39m):\n\u001b[1;32m   1028\u001b[0m     \u001b[39mraise\u001b[39;00m \u001b[39mRuntimeError\u001b[39;00m(\n\u001b[1;32m   1029\u001b[0m         \u001b[39m\"\u001b[39m\u001b[39mtorch.load does not work with file-like objects that do not implement readinto on Python 3.8.0 and 3.8.1. \u001b[39m\u001b[39m\"\u001b[39m\n\u001b[1;32m   1030\u001b[0m         \u001b[39mf\u001b[39m\u001b[39m\"\u001b[39m\u001b[39mReceived object of type \u001b[39m\u001b[39m\\\"\u001b[39;00m\u001b[39m{\u001b[39;00m\u001b[39mtype\u001b[39m(f)\u001b[39m}\u001b[39;00m\u001b[39m\\\"\u001b[39;00m\u001b[39m. Please update to Python 3.8.2 or newer to restore this \u001b[39m\u001b[39m\"\u001b[39m\n\u001b[1;32m   1031\u001b[0m         \u001b[39m\"\u001b[39m\u001b[39mfunctionality.\u001b[39m\u001b[39m\"\u001b[39m)\n\u001b[0;32m-> 1033\u001b[0m magic_number \u001b[39m=\u001b[39m pickle_module\u001b[39m.\u001b[39;49mload(f, \u001b[39m*\u001b[39;49m\u001b[39m*\u001b[39;49mpickle_load_args)\n\u001b[1;32m   1034\u001b[0m \u001b[39mif\u001b[39;00m magic_number \u001b[39m!=\u001b[39m MAGIC_NUMBER:\n\u001b[1;32m   1035\u001b[0m     \u001b[39mraise\u001b[39;00m \u001b[39mRuntimeError\u001b[39;00m(\u001b[39m\"\u001b[39m\u001b[39mInvalid magic number; corrupt file?\u001b[39m\u001b[39m\"\u001b[39m)\n",
      "\u001b[0;31mUnpicklingError\u001b[0m: unpickling stack underflow"
     ]
    }
   ],
   "source": [
    "model1 = LandmarkRegression(num_landmarks)\n",
    "model1.load_state_dict(torch.load('vers_0_32.pt'))"
   ]
  },
  {
   "cell_type": "code",
   "execution_count": null,
   "metadata": {},
   "outputs": [
    {
     "ename": "ValueError",
     "evalue": "too many values to unpack (expected 2)",
     "output_type": "error",
     "traceback": [
      "\u001b[0;31m---------------------------------------------------------------------------\u001b[0m",
      "\u001b[0;31mValueError\u001b[0m                                Traceback (most recent call last)",
      "Cell \u001b[0;32mIn[14], line 6\u001b[0m\n\u001b[1;32m      3\u001b[0m total_loss \u001b[39m=\u001b[39m \u001b[39m0.0\u001b[39m\n\u001b[1;32m      5\u001b[0m \u001b[39mwith\u001b[39;00m torch\u001b[39m.\u001b[39mno_grad():\n\u001b[0;32m----> 6\u001b[0m     \u001b[39mfor\u001b[39;00m inputs, targets \u001b[39min\u001b[39;00m test_loader:\n\u001b[1;32m      7\u001b[0m         outputs \u001b[39m=\u001b[39m model(inputs)\n\u001b[1;32m      8\u001b[0m         loss \u001b[39m=\u001b[39m criterion(outputs, targets)\n",
      "\u001b[0;31mValueError\u001b[0m: too many values to unpack (expected 2)"
     ]
    }
   ],
   "source": [
    "model.eval()  # Set the model to evaluation mode\n",
    "total_loss = 0.0\n",
    "\n",
    "with torch.no_grad():\n",
    "    for batch_index, data in enumerate(test_loader):\n",
    "        input, target, visibility = data[0].to(device), data[1].to(device), data[2].to(device)\n",
    "        output = model(input)\n",
    "        loss = weighted_mse_loss(output, target, visibility)\n",
    "        total_loss += loss.item()\n",
    "\n",
    "average_test_loss = total_loss / len(test_loader)\n",
    "print(f\"Average Test Loss: {average_test_loss:.4f}\")\n"
   ]
  }
 ],
 "metadata": {
  "kernelspec": {
   "display_name": "Python 3",
   "language": "python",
   "name": "python3"
  },
  "language_info": {
   "codemirror_mode": {
    "name": "ipython",
    "version": 3
   },
   "file_extension": ".py",
   "mimetype": "text/x-python",
   "name": "python",
   "nbconvert_exporter": "python",
   "pygments_lexer": "ipython3",
   "version": "3.10.7"
  },
  "orig_nbformat": 4
 },
 "nbformat": 4,
 "nbformat_minor": 2
}
